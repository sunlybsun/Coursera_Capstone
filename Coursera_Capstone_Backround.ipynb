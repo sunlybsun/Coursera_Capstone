{
 "cells": [
  {
   "cell_type": "markdown",
   "metadata": {},
   "source": [
    "# Background"
   ]
  },
  {
   "cell_type": "markdown",
   "metadata": {},
   "source": [
    "Seattle is a gorgeous City to live in. However the car collision problem always harass the City.\n",
    "In most cases, Road condition, lighting condition, weather and speeding are the main causes of occurring accidents that can be prevented by better regulations  \n",
    "The target audience of the project is local Seattle government, police  and citizens, The model and its results are going to provide some advice for them to make insightful decisions for reducing the number of accidents and injuries for the city.  "
   ]
  },
  {
   "cell_type": "markdown",
   "metadata": {},
   "source": [
    "# Data"
   ]
  },
  {
   "cell_type": "markdown",
   "metadata": {},
   "source": [
    "Using the data provided by Seattle DOT  on Collisions(Coursera provide), I will investigate the connection of severity of car accidents with Road condition, lighting condition, weather and speeding. This data provides collisions from 2004 to the present in Seattle.  \n",
    "\n",
    "The Data is not clean and An initial analysis of the data shows that there are 194,673 records and 38 fields.  \n",
    "This dataset only includes two types of severity – Property Damage (Severity 1) and Injury (Severity 2). \n",
    "Using the SEVERITYCODE as the target variable, I can construct a classification machine learning model.\n",
    "\n",
    "The Data set is imbalanced, I will use proper method to make a training set first and then use the other for test set to see weather the model will be precise."
   ]
  }
 ],
 "metadata": {
  "kernelspec": {
   "display_name": "Python 3",
   "language": "python",
   "name": "python3"
  },
  "language_info": {
   "codemirror_mode": {
    "name": "ipython",
    "version": 3
   },
   "file_extension": ".py",
   "mimetype": "text/x-python",
   "name": "python",
   "nbconvert_exporter": "python",
   "pygments_lexer": "ipython3",
   "version": "3.8.3"
  }
 },
 "nbformat": 4,
 "nbformat_minor": 4
}
